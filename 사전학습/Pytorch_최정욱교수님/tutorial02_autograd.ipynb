{
 "cells": [
  {
   "cell_type": "code",
   "execution_count": 1,
   "metadata": {},
   "outputs": [],
   "source": [
    "import torch\n",
    "from torch.autograd import grad\n",
    "\n",
    "x1 = torch.tensor(2, requires_grad=True, dtype=torch.float32)\n",
    "x2 = torch.tensor(3, requires_grad=True, dtype=torch.float32)\n",
    "x3 = torch.tensor(1, requires_grad=True, dtype=torch.float32)\n",
    "x4 = torch.tensor(4, requires_grad=True, dtype=torch.float32)"
   ]
  },
  {
   "cell_type": "code",
   "execution_count": 6,
   "metadata": {},
   "outputs": [],
   "source": [
    "z1 = x1*x2\n",
    "z2 = x3*x4\n",
    "\n",
    "f = z1 + z2\n",
    "df_dx = grad(outputs=f, inputs=[x1,x2,x3,x4])\n",
    "# f.backward() # a more convenient way to invoke backward pass"
   ]
  },
  {
   "cell_type": "code",
   "execution_count": 7,
   "metadata": {},
   "outputs": [
    {
     "name": "stdout",
     "output_type": "stream",
     "text": [
      "gradient of x1 = 3.0\n",
      "gradient of x1 = 2.0\n",
      "gradient of x1 = 4.0\n",
      "gradient of x1 = 1.0\n"
     ]
    }
   ],
   "source": [
    "print(f'gradient of x1 = {df_dx[0]}')\n",
    "print(f'gradient of x1 = {df_dx[1]}')\n",
    "print(f'gradient of x1 = {df_dx[2]}')\n",
    "print(f'gradient of x1 = {df_dx[3]}')"
   ]
  },
  {
   "cell_type": "code",
   "execution_count": null,
   "metadata": {},
   "outputs": [],
   "source": []
  },
  {
   "cell_type": "code",
   "execution_count": 8,
   "metadata": {},
   "outputs": [
    {
     "data": {
      "text/plain": [
       "True"
      ]
     },
     "execution_count": 8,
     "metadata": {},
     "output_type": "execute_result"
    }
   ],
   "source": [
    "x = torch.tensor([1.0], requires_grad=True)\n",
    "y = x * 2\n",
    "y.requires_grad"
   ]
  },
  {
   "cell_type": "code",
   "execution_count": 10,
   "metadata": {},
   "outputs": [
    {
     "data": {
      "text/plain": [
       "False"
      ]
     },
     "execution_count": 10,
     "metadata": {},
     "output_type": "execute_result"
    }
   ],
   "source": [
    "x = torch.tensor([1.0], requires_grad=True)\n",
    "with torch.no_grad():\n",
    "    y = x * 2\n",
    "y.requires_grad"
   ]
  },
  {
   "cell_type": "code",
   "execution_count": 11,
   "metadata": {},
   "outputs": [
    {
     "data": {
      "text/plain": [
       "True"
      ]
     },
     "execution_count": 11,
     "metadata": {},
     "output_type": "execute_result"
    }
   ],
   "source": [
    "x = torch.tensor([1.0], requires_grad=True)\n",
    "with torch.no_grad():\n",
    "    with torch.enable_grad():\n",
    "        y = x * 2\n",
    "y.requires_grad"
   ]
  },
  {
   "cell_type": "code",
   "execution_count": null,
   "metadata": {},
   "outputs": [],
   "source": []
  },
  {
   "cell_type": "code",
   "execution_count": 28,
   "metadata": {},
   "outputs": [],
   "source": [
    "import numpy as np\n",
    "\n",
    "a_ref = -1.5\n",
    "b_ref = 8\n",
    "noise = 0.2*np.random.randn(50)"
   ]
  },
  {
   "cell_type": "code",
   "execution_count": 29,
   "metadata": {},
   "outputs": [],
   "source": [
    "#Generate data\n",
    "x = np.linspace(1,4,50)\n",
    "y = a_ref * x + b_ref + noise"
   ]
  },
  {
   "cell_type": "code",
   "execution_count": 30,
   "metadata": {},
   "outputs": [],
   "source": [
    "def MSE_loss(pred, label):\n",
    "    return (pred-label).pow(2).mean()"
   ]
  },
  {
   "cell_type": "code",
   "execution_count": 43,
   "metadata": {},
   "outputs": [],
   "source": [
    "#Get data as torch.tensors\n",
    "xx = torch.tensor(x, dtype=torch.float32)\n",
    "yy = torch.tensor(y, dtype=torch.float32)\n",
    "\n",
    "#Create our unknown variables\n",
    "a = torch.tensor(0, requires_grad=True, dtype=torch.float32)\n",
    "b = torch.tensor(5, requires_grad=True, dtype=torch.float32)"
   ]
  },
  {
   "cell_type": "code",
   "execution_count": 44,
   "metadata": {},
   "outputs": [
    {
     "name": "stdout",
     "output_type": "stream",
     "text": [
      "ii=    0 | loss = 2.52 | a = -0.06 | b = 4.98\n",
      "ii=  100 | loss = 0.82 | a = -0.60 | b = 5.45\n",
      "ii=  200 | loss = 0.56 | a = -0.77 | b = 5.92\n",
      "ii=  300 | loss = 0.39 | a = -0.91 | b = 6.31\n",
      "ii=  400 | loss = 0.27 | a = -1.02 | b = 6.63\n",
      "ii=  500 | loss = 0.19 | a = -1.12 | b = 6.89\n",
      "ii=  600 | loss = 0.14 | a = -1.20 | b = 7.11\n",
      "ii=  700 | loss = 0.11 | a = -1.26 | b = 7.29\n",
      "ii=  800 | loss = 0.08 | a = -1.31 | b = 7.43\n",
      "ii=  900 | loss = 0.07 | a = -1.35 | b = 7.55\n",
      "ii= 1000 | loss = 0.05 | a = -1.39 | b = 7.65\n",
      "ii= 1100 | loss = 0.05 | a = -1.42 | b = 7.73\n",
      "ii= 1200 | loss = 0.04 | a = -1.44 | b = 7.80\n",
      "ii= 1300 | loss = 0.04 | a = -1.46 | b = 7.85\n",
      "ii= 1400 | loss = 0.04 | a = -1.48 | b = 7.89\n",
      "ii= 1500 | loss = 0.04 | a = -1.49 | b = 7.93\n",
      "ii= 1600 | loss = 0.03 | a = -1.50 | b = 7.96\n",
      "ii= 1700 | loss = 0.03 | a = -1.51 | b = 7.99\n",
      "ii= 1800 | loss = 0.03 | a = -1.52 | b = 8.01\n",
      "ii= 1900 | loss = 0.03 | a = -1.52 | b = 8.02\n",
      "tensor(-1.5298, requires_grad=True)\n",
      "tensor(8.0364, requires_grad=True)\n"
     ]
    }
   ],
   "source": [
    "#Training loop\n",
    "numbOfEpoch = 2000\n",
    "learning_rate = 0.01\n",
    "for ii in range(numbOfEpoch):\n",
    "    y_pred = a * xx + b\n",
    "    loss = MSE_loss(pred=y_pred, label=yy)\n",
    "    loss.backward()\n",
    "    \n",
    "    #Gradient descent update\n",
    "    with torch.no_grad():\n",
    "        a = a - learning_rate * a.grad\n",
    "        b = b - learning_rate * b.grad\n",
    "        \n",
    "    a.requires_grad = True\n",
    "    b.requires_grad = True\n",
    "    if ii%100 == 0 or ii==1000:\n",
    "        print(f'ii={ii:5d} | loss = {loss:.2f} | a = {a:.2f} | b = {b:.2f}')\n",
    "    \n",
    "print(a)\n",
    "print(b)"
   ]
  },
  {
   "cell_type": "code",
   "execution_count": null,
   "metadata": {},
   "outputs": [],
   "source": []
  }
 ],
 "metadata": {
  "kernelspec": {
   "display_name": "Python 3",
   "language": "python",
   "name": "python3"
  },
  "language_info": {
   "codemirror_mode": {
    "name": "ipython",
    "version": 3
   },
   "file_extension": ".py",
   "mimetype": "text/x-python",
   "name": "python",
   "nbconvert_exporter": "python",
   "pygments_lexer": "ipython3",
   "version": "3.8.3"
  }
 },
 "nbformat": 4,
 "nbformat_minor": 4
}
