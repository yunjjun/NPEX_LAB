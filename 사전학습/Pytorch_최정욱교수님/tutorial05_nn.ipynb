{
 "cells": [
  {
   "cell_type": "code",
   "execution_count": 6,
   "metadata": {},
   "outputs": [],
   "source": [
    "import torch\n",
    "import torch.nn as nn\n",
    "import torch.nn.functional as F"
   ]
  },
  {
   "cell_type": "code",
   "execution_count": 7,
   "metadata": {},
   "outputs": [],
   "source": [
    "class Model(nn.Module):\n",
    "    def __init__(self):\n",
    "        super().__init__()\n",
    "        # let's assume 28x28 input images, e.g. MNIST characters\n",
    "        self.fc1 = nn.Linear(in_features = 28 * 28, out_features = 128, bias=True)\n",
    "        self.fc2 = nn.Linear(in_features = 128, out_features = 64, bias=True)\n",
    "        self.fc3 = nn.Linear(in_features = 64, out_features = 10, bias=True)\n",
    "    \n",
    "    def forward(self, x):\n",
    "        x = F.relu(self.fc1(x))\n",
    "        x = F.relu(self.fc2(x))\n",
    "        x = self.fc3(x)\n",
    "        return x\n"
   ]
  },
  {
   "cell_type": "code",
   "execution_count": 8,
   "metadata": {},
   "outputs": [],
   "source": [
    "model = Model()"
   ]
  },
  {
   "cell_type": "code",
   "execution_count": 9,
   "metadata": {},
   "outputs": [
    {
     "data": {
      "text/plain": [
       "[Linear(in_features=784, out_features=128, bias=True),\n",
       " Linear(in_features=128, out_features=64, bias=True),\n",
       " Linear(in_features=64, out_features=10, bias=True)]"
      ]
     },
     "execution_count": 9,
     "metadata": {},
     "output_type": "execute_result"
    }
   ],
   "source": [
    "list(model.children())"
   ]
  },
  {
   "cell_type": "code",
   "execution_count": 10,
   "metadata": {},
   "outputs": [
    {
     "name": "stdout",
     "output_type": "stream",
     "text": [
      "layer = fc1.weight | feature shape = torch.Size([128, 784])\n",
      "layer = fc1.bias   | feature shape = torch.Size([128])\n",
      "layer = fc2.weight | feature shape = torch.Size([64, 128])\n",
      "layer = fc2.bias   | feature shape = torch.Size([64])\n",
      "layer = fc3.weight | feature shape = torch.Size([10, 64])\n",
      "layer = fc3.bias   | feature shape = torch.Size([10])\n"
     ]
    }
   ],
   "source": [
    "for key, value in model.state_dict().items():\n",
    "    print(f'layer = {key:10s} | feature shape = {value.shape}')"
   ]
  }
 ],
 "metadata": {
  "kernelspec": {
   "display_name": "Python 3",
   "language": "python",
   "name": "python3"
  },
  "language_info": {
   "codemirror_mode": {
    "name": "ipython",
    "version": 3
   },
   "file_extension": ".py",
   "mimetype": "text/x-python",
   "name": "python",
   "nbconvert_exporter": "python",
   "pygments_lexer": "ipython3",
   "version": "3.8.3"
  }
 },
 "nbformat": 4,
 "nbformat_minor": 4
}
