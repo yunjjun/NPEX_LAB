{
 "cells": [
  {
   "cell_type": "code",
   "execution_count": 1,
   "metadata": {},
   "outputs": [
    {
     "name": "stdout",
     "output_type": "stream",
     "text": [
      "Cloning into 'QPyTorch'...\n",
      "remote: Enumerating objects: 133, done.\u001b[K\n",
      "remote: Counting objects: 100% (133/133), done.\u001b[K\n",
      "remote: Compressing objects: 100% (100/100), done.\u001b[K\n",
      "remote: Total 1415 (delta 53), reused 66 (delta 33), pack-reused 1282\u001b[K\n",
      "Receiving objects: 100% (1415/1415), 279.45 KiB | 484.00 KiB/s, done.\n",
      "Resolving deltas: 100% (861/861), done.\n"
     ]
    }
   ],
   "source": [
    "!git clone https://github.com/Tiiiger/QPyTorch.git"
   ]
  },
  {
   "cell_type": "code",
   "execution_count": 2,
   "metadata": {},
   "outputs": [
    {
     "name": "stdout",
     "output_type": "stream",
     "text": [
      "Collecting torchvision\n",
      "  Downloading torchvision-0.7.0-cp37-cp37m-manylinux1_x86_64.whl (5.9 MB)\n",
      "\u001b[K     |████████████████████████████████| 5.9 MB 2.0 MB/s eta 0:00:01\n",
      "\u001b[?25hCollecting tqdm\n",
      "  Downloading tqdm-4.49.0-py2.py3-none-any.whl (69 kB)\n",
      "\u001b[K     |████████████████████████████████| 69 kB 2.7 MB/s eta 0:00:011\n",
      "\u001b[?25hCollecting ninja\n",
      "  Downloading ninja-1.10.0.post2-py3-none-manylinux1_x86_64.whl (107 kB)\n",
      "\u001b[K     |████████████████████████████████| 107 kB 2.7 MB/s eta 0:00:01\n",
      "\u001b[?25hCollecting numpy\n",
      "  Downloading numpy-1.19.2-cp37-cp37m-manylinux2010_x86_64.whl (14.5 MB)\n",
      "\u001b[K     |████████████████████████████████| 14.5 MB 2.4 MB/s eta 0:00:01\n",
      "\u001b[?25hCollecting torch==1.6.0\n",
      "  Downloading torch-1.6.0-cp37-cp37m-manylinux1_x86_64.whl (748.8 MB)\n",
      "\u001b[K     |████████████████████████████████| 748.8 MB 13 kB/s  eta 0:00:01\n",
      "\u001b[?25hCollecting pillow>=4.1.1\n",
      "  Using cached Pillow-7.2.0-cp37-cp37m-manylinux1_x86_64.whl (2.2 MB)\n",
      "Processing /home/hwanii/.cache/pip/wheels/56/b0/fe/4410d17b32f1f0c3cf54cdfb2bc04d7b4b8f4ae377e2229ba0/future-0.18.2-py3-none-any.whl\n",
      "Installing collected packages: numpy, future, torch, pillow, torchvision, tqdm, ninja\n",
      "Successfully installed future-0.18.2 ninja-1.10.0.post2 numpy-1.19.2 pillow-7.2.0 torch-1.6.0 torchvision-0.7.0 tqdm-4.49.0\n"
     ]
    }
   ],
   "source": [
    "!pip install torchvision tqdm ninja"
   ]
  },
  {
   "cell_type": "code",
   "execution_count": 3,
   "metadata": {},
   "outputs": [
    {
     "name": "stdout",
     "output_type": "stream",
     "text": [
      "Collecting sphinx>=1.4\n",
      "  Downloading Sphinx-3.2.1-py3-none-any.whl (2.9 MB)\n",
      "\u001b[K     |████████████████████████████████| 2.9 MB 4.3 MB/s eta 0:00:01\n",
      "\u001b[?25hRequirement already satisfied: ipykernel in /home/hwanii/anaconda3/envs/samsung/lib/python3.7/site-packages (from -r QPyTorch/requirements.txt (line 2)) (5.3.4)\n",
      "Collecting nbsphinx\n",
      "  Using cached nbsphinx-0.7.1-py3-none-any.whl (24 kB)\n",
      "Collecting sphinxcontrib-jsmath\n",
      "  Using cached sphinxcontrib_jsmath-1.0.1-py2.py3-none-any.whl (5.1 kB)\n",
      "Requirement already satisfied: setuptools in /home/hwanii/anaconda3/envs/samsung/lib/python3.7/site-packages (from sphinx>=1.4->-r QPyTorch/requirements.txt (line 1)) (49.6.0.post20200814)\n",
      "Requirement already satisfied: Pygments>=2.0 in /home/hwanii/anaconda3/envs/samsung/lib/python3.7/site-packages (from sphinx>=1.4->-r QPyTorch/requirements.txt (line 1)) (2.7.1)\n",
      "Collecting sphinxcontrib-applehelp\n",
      "  Using cached sphinxcontrib_applehelp-1.0.2-py2.py3-none-any.whl (121 kB)\n",
      "Collecting imagesize\n",
      "  Using cached imagesize-1.2.0-py2.py3-none-any.whl (4.8 kB)\n",
      "Collecting sphinxcontrib-devhelp\n",
      "  Using cached sphinxcontrib_devhelp-1.0.2-py2.py3-none-any.whl (84 kB)\n",
      "Collecting docutils>=0.12\n",
      "  Using cached docutils-0.16-py2.py3-none-any.whl (548 kB)\n",
      "Collecting babel>=1.3\n",
      "  Using cached Babel-2.8.0-py2.py3-none-any.whl (8.6 MB)\n",
      "Collecting alabaster<0.8,>=0.7\n",
      "  Using cached alabaster-0.7.12-py2.py3-none-any.whl (14 kB)\n",
      "Requirement already satisfied: Jinja2>=2.3 in /home/hwanii/anaconda3/envs/samsung/lib/python3.7/site-packages (from sphinx>=1.4->-r QPyTorch/requirements.txt (line 1)) (2.11.2)\n",
      "Collecting snowballstemmer>=1.1\n",
      "  Using cached snowballstemmer-2.0.0-py2.py3-none-any.whl (97 kB)\n",
      "Collecting requests>=2.5.0\n",
      "  Using cached requests-2.24.0-py2.py3-none-any.whl (61 kB)\n",
      "Requirement already satisfied: packaging in /home/hwanii/anaconda3/envs/samsung/lib/python3.7/site-packages (from sphinx>=1.4->-r QPyTorch/requirements.txt (line 1)) (20.4)\n",
      "Collecting sphinxcontrib-serializinghtml\n",
      "  Using cached sphinxcontrib_serializinghtml-1.1.4-py2.py3-none-any.whl (89 kB)\n",
      "Collecting sphinxcontrib-qthelp\n",
      "  Using cached sphinxcontrib_qthelp-1.0.3-py2.py3-none-any.whl (90 kB)\n",
      "Collecting sphinxcontrib-htmlhelp\n",
      "  Using cached sphinxcontrib_htmlhelp-1.0.3-py2.py3-none-any.whl (96 kB)\n",
      "Requirement already satisfied: tornado>=4.2 in /home/hwanii/anaconda3/envs/samsung/lib/python3.7/site-packages (from ipykernel->-r QPyTorch/requirements.txt (line 2)) (6.0.4)\n",
      "Requirement already satisfied: jupyter-client in /home/hwanii/anaconda3/envs/samsung/lib/python3.7/site-packages (from ipykernel->-r QPyTorch/requirements.txt (line 2)) (6.1.7)\n",
      "Requirement already satisfied: ipython>=5.0.0 in /home/hwanii/anaconda3/envs/samsung/lib/python3.7/site-packages (from ipykernel->-r QPyTorch/requirements.txt (line 2)) (7.18.1)\n",
      "Requirement already satisfied: traitlets>=4.1.0 in /home/hwanii/anaconda3/envs/samsung/lib/python3.7/site-packages (from ipykernel->-r QPyTorch/requirements.txt (line 2)) (5.0.4)\n",
      "Requirement already satisfied: nbformat in /home/hwanii/anaconda3/envs/samsung/lib/python3.7/site-packages (from nbsphinx->-r QPyTorch/requirements.txt (line 3)) (5.0.7)\n",
      "Requirement already satisfied: nbconvert!=5.4 in /home/hwanii/anaconda3/envs/samsung/lib/python3.7/site-packages (from nbsphinx->-r QPyTorch/requirements.txt (line 3)) (6.0.4)\n",
      "Collecting pytz>=2015.7\n",
      "  Using cached pytz-2020.1-py2.py3-none-any.whl (510 kB)\n",
      "Requirement already satisfied: MarkupSafe>=0.23 in /home/hwanii/anaconda3/envs/samsung/lib/python3.7/site-packages (from Jinja2>=2.3->sphinx>=1.4->-r QPyTorch/requirements.txt (line 1)) (1.1.1)\n",
      "Requirement already satisfied: certifi>=2017.4.17 in /home/hwanii/anaconda3/envs/samsung/lib/python3.7/site-packages (from requests>=2.5.0->sphinx>=1.4->-r QPyTorch/requirements.txt (line 1)) (2020.6.20)\n",
      "Collecting urllib3!=1.25.0,!=1.25.1,<1.26,>=1.21.1\n",
      "  Downloading urllib3-1.25.10-py2.py3-none-any.whl (127 kB)\n",
      "\u001b[K     |████████████████████████████████| 127 kB 5.2 MB/s eta 0:00:01\n",
      "\u001b[?25hCollecting chardet<4,>=3.0.2\n",
      "  Using cached chardet-3.0.4-py2.py3-none-any.whl (133 kB)\n",
      "Collecting idna<3,>=2.5\n",
      "  Using cached idna-2.10-py2.py3-none-any.whl (58 kB)\n",
      "Requirement already satisfied: pyparsing>=2.0.2 in /home/hwanii/anaconda3/envs/samsung/lib/python3.7/site-packages (from packaging->sphinx>=1.4->-r QPyTorch/requirements.txt (line 1)) (2.4.7)\n",
      "Requirement already satisfied: six in /home/hwanii/anaconda3/envs/samsung/lib/python3.7/site-packages (from packaging->sphinx>=1.4->-r QPyTorch/requirements.txt (line 1)) (1.15.0)\n",
      "Requirement already satisfied: jupyter-core>=4.6.0 in /home/hwanii/anaconda3/envs/samsung/lib/python3.7/site-packages (from jupyter-client->ipykernel->-r QPyTorch/requirements.txt (line 2)) (4.6.3)\n",
      "Requirement already satisfied: pyzmq>=13 in /home/hwanii/anaconda3/envs/samsung/lib/python3.7/site-packages (from jupyter-client->ipykernel->-r QPyTorch/requirements.txt (line 2)) (19.0.2)\n",
      "Requirement already satisfied: python-dateutil>=2.1 in /home/hwanii/anaconda3/envs/samsung/lib/python3.7/site-packages (from jupyter-client->ipykernel->-r QPyTorch/requirements.txt (line 2)) (2.8.1)\n",
      "Requirement already satisfied: prompt-toolkit!=3.0.0,!=3.0.1,<3.1.0,>=2.0.0 in /home/hwanii/anaconda3/envs/samsung/lib/python3.7/site-packages (from ipython>=5.0.0->ipykernel->-r QPyTorch/requirements.txt (line 2)) (3.0.7)\n",
      "Requirement already satisfied: jedi>=0.10 in /home/hwanii/anaconda3/envs/samsung/lib/python3.7/site-packages (from ipython>=5.0.0->ipykernel->-r QPyTorch/requirements.txt (line 2)) (0.17.2)\n",
      "Requirement already satisfied: backcall in /home/hwanii/anaconda3/envs/samsung/lib/python3.7/site-packages (from ipython>=5.0.0->ipykernel->-r QPyTorch/requirements.txt (line 2)) (0.2.0)\n",
      "Requirement already satisfied: decorator in /home/hwanii/anaconda3/envs/samsung/lib/python3.7/site-packages (from ipython>=5.0.0->ipykernel->-r QPyTorch/requirements.txt (line 2)) (4.4.2)\n",
      "Requirement already satisfied: pickleshare in /home/hwanii/anaconda3/envs/samsung/lib/python3.7/site-packages (from ipython>=5.0.0->ipykernel->-r QPyTorch/requirements.txt (line 2)) (0.7.5)\n",
      "Requirement already satisfied: pexpect>4.3; sys_platform != \"win32\" in /home/hwanii/anaconda3/envs/samsung/lib/python3.7/site-packages (from ipython>=5.0.0->ipykernel->-r QPyTorch/requirements.txt (line 2)) (4.8.0)\n",
      "Requirement already satisfied: ipython-genutils in /home/hwanii/anaconda3/envs/samsung/lib/python3.7/site-packages (from traitlets>=4.1.0->ipykernel->-r QPyTorch/requirements.txt (line 2)) (0.2.0)\n",
      "Requirement already satisfied: jsonschema!=2.5.0,>=2.4 in /home/hwanii/anaconda3/envs/samsung/lib/python3.7/site-packages (from nbformat->nbsphinx->-r QPyTorch/requirements.txt (line 3)) (3.2.0)\n",
      "Requirement already satisfied: defusedxml in /home/hwanii/anaconda3/envs/samsung/lib/python3.7/site-packages (from nbconvert!=5.4->nbsphinx->-r QPyTorch/requirements.txt (line 3)) (0.6.0)\n",
      "Requirement already satisfied: testpath in /home/hwanii/anaconda3/envs/samsung/lib/python3.7/site-packages (from nbconvert!=5.4->nbsphinx->-r QPyTorch/requirements.txt (line 3)) (0.4.4)\n",
      "Requirement already satisfied: entrypoints>=0.2.2 in /home/hwanii/anaconda3/envs/samsung/lib/python3.7/site-packages (from nbconvert!=5.4->nbsphinx->-r QPyTorch/requirements.txt (line 3)) (0.3)\n",
      "Requirement already satisfied: jupyterlab-pygments in /home/hwanii/anaconda3/envs/samsung/lib/python3.7/site-packages (from nbconvert!=5.4->nbsphinx->-r QPyTorch/requirements.txt (line 3)) (0.1.1)\n",
      "Requirement already satisfied: pandocfilters>=1.4.1 in /home/hwanii/anaconda3/envs/samsung/lib/python3.7/site-packages (from nbconvert!=5.4->nbsphinx->-r QPyTorch/requirements.txt (line 3)) (1.4.2)\n",
      "Requirement already satisfied: nbclient<0.6.0,>=0.5.0 in /home/hwanii/anaconda3/envs/samsung/lib/python3.7/site-packages (from nbconvert!=5.4->nbsphinx->-r QPyTorch/requirements.txt (line 3)) (0.5.0)\n",
      "Requirement already satisfied: bleach in /home/hwanii/anaconda3/envs/samsung/lib/python3.7/site-packages (from nbconvert!=5.4->nbsphinx->-r QPyTorch/requirements.txt (line 3)) (3.2.1)\n",
      "Requirement already satisfied: mistune<2,>=0.8.1 in /home/hwanii/anaconda3/envs/samsung/lib/python3.7/site-packages (from nbconvert!=5.4->nbsphinx->-r QPyTorch/requirements.txt (line 3)) (0.8.4)\n",
      "Requirement already satisfied: wcwidth in /home/hwanii/anaconda3/envs/samsung/lib/python3.7/site-packages (from prompt-toolkit!=3.0.0,!=3.0.1,<3.1.0,>=2.0.0->ipython>=5.0.0->ipykernel->-r QPyTorch/requirements.txt (line 2)) (0.2.5)\n",
      "Requirement already satisfied: parso<0.8.0,>=0.7.0 in /home/hwanii/anaconda3/envs/samsung/lib/python3.7/site-packages (from jedi>=0.10->ipython>=5.0.0->ipykernel->-r QPyTorch/requirements.txt (line 2)) (0.7.1)\n"
     ]
    },
    {
     "name": "stdout",
     "output_type": "stream",
     "text": [
      "Requirement already satisfied: ptyprocess>=0.5 in /home/hwanii/anaconda3/envs/samsung/lib/python3.7/site-packages (from pexpect>4.3; sys_platform != \"win32\"->ipython>=5.0.0->ipykernel->-r QPyTorch/requirements.txt (line 2)) (0.6.0)\n",
      "Requirement already satisfied: attrs>=17.4.0 in /home/hwanii/anaconda3/envs/samsung/lib/python3.7/site-packages (from jsonschema!=2.5.0,>=2.4->nbformat->nbsphinx->-r QPyTorch/requirements.txt (line 3)) (20.2.0)\n",
      "Requirement already satisfied: pyrsistent>=0.14.0 in /home/hwanii/anaconda3/envs/samsung/lib/python3.7/site-packages (from jsonschema!=2.5.0,>=2.4->nbformat->nbsphinx->-r QPyTorch/requirements.txt (line 3)) (0.17.3)\n",
      "Requirement already satisfied: importlib-metadata; python_version < \"3.8\" in /home/hwanii/anaconda3/envs/samsung/lib/python3.7/site-packages (from jsonschema!=2.5.0,>=2.4->nbformat->nbsphinx->-r QPyTorch/requirements.txt (line 3)) (1.7.0)\n",
      "Requirement already satisfied: async-generator in /home/hwanii/anaconda3/envs/samsung/lib/python3.7/site-packages (from nbclient<0.6.0,>=0.5.0->nbconvert!=5.4->nbsphinx->-r QPyTorch/requirements.txt (line 3)) (1.10)\n",
      "Requirement already satisfied: nest-asyncio in /home/hwanii/anaconda3/envs/samsung/lib/python3.7/site-packages (from nbclient<0.6.0,>=0.5.0->nbconvert!=5.4->nbsphinx->-r QPyTorch/requirements.txt (line 3)) (1.4.0)\n",
      "Requirement already satisfied: webencodings in /home/hwanii/anaconda3/envs/samsung/lib/python3.7/site-packages (from bleach->nbconvert!=5.4->nbsphinx->-r QPyTorch/requirements.txt (line 3)) (0.5.1)\n",
      "Requirement already satisfied: zipp>=0.5 in /home/hwanii/anaconda3/envs/samsung/lib/python3.7/site-packages (from importlib-metadata; python_version < \"3.8\"->jsonschema!=2.5.0,>=2.4->nbformat->nbsphinx->-r QPyTorch/requirements.txt (line 3)) (3.1.0)\n",
      "Installing collected packages: sphinxcontrib-jsmath, sphinxcontrib-applehelp, imagesize, sphinxcontrib-devhelp, docutils, pytz, babel, alabaster, snowballstemmer, urllib3, chardet, idna, requests, sphinxcontrib-serializinghtml, sphinxcontrib-qthelp, sphinxcontrib-htmlhelp, sphinx, nbsphinx\n",
      "Successfully installed alabaster-0.7.12 babel-2.8.0 chardet-3.0.4 docutils-0.16 idna-2.10 imagesize-1.2.0 nbsphinx-0.7.1 pytz-2020.1 requests-2.24.0 snowballstemmer-2.0.0 sphinx-3.2.1 sphinxcontrib-applehelp-1.0.2 sphinxcontrib-devhelp-1.0.2 sphinxcontrib-htmlhelp-1.0.3 sphinxcontrib-jsmath-1.0.1 sphinxcontrib-qthelp-1.0.3 sphinxcontrib-serializinghtml-1.1.4 urllib3-1.25.10\n"
     ]
    }
   ],
   "source": [
    "!pip install -r QPyTorch/requirements.txt"
   ]
  },
  {
   "cell_type": "code",
   "execution_count": 4,
   "metadata": {},
   "outputs": [
    {
     "name": "stdout",
     "output_type": "stream",
     "text": [
      "Collecting qtorch\n",
      "  Downloading qtorch-0.2.0-py3-none-any.whl (22 kB)\n",
      "Requirement already satisfied: torch>=1.5.0 in /home/hwanii/anaconda3/envs/samsung/lib/python3.7/site-packages (from qtorch) (1.6.0)\n",
      "Requirement already satisfied: numpy in /home/hwanii/anaconda3/envs/samsung/lib/python3.7/site-packages (from torch>=1.5.0->qtorch) (1.19.2)\n",
      "Requirement already satisfied: future in /home/hwanii/anaconda3/envs/samsung/lib/python3.7/site-packages (from torch>=1.5.0->qtorch) (0.18.2)\n",
      "Installing collected packages: qtorch\n",
      "Successfully installed qtorch-0.2.0\n"
     ]
    }
   ],
   "source": [
    "!pip install qtorch"
   ]
  },
  {
   "cell_type": "code",
   "execution_count": null,
   "metadata": {},
   "outputs": [],
   "source": []
  }
 ],
 "metadata": {
  "kernelspec": {
   "display_name": "Python 3",
   "language": "python",
   "name": "python3"
  },
  "language_info": {
   "codemirror_mode": {
    "name": "ipython",
    "version": 3
   },
   "file_extension": ".py",
   "mimetype": "text/x-python",
   "name": "python",
   "nbconvert_exporter": "python",
   "pygments_lexer": "ipython3",
   "version": "3.7.9"
  }
 },
 "nbformat": 4,
 "nbformat_minor": 4
}
